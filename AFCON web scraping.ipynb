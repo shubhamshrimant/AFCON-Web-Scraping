{
 "cells": [
  {
   "cell_type": "code",
   "execution_count": 1,
   "id": "9df0a57a",
   "metadata": {},
   "outputs": [],
   "source": [
    "import pandas as pd\n",
    "import numpy as np\n",
    "import seaborn as sns\n",
    "import matplotlib.pyplot as plt\n",
    "%matplotlib inline"
   ]
  },
  {
   "cell_type": "markdown",
   "id": "e7c73d1f",
   "metadata": {},
   "source": [
    "This Web Scraping is done only for practice purpose. If you are doing web scraping, do it for personal learning and not for commercial use unless you have the required rights/permission."
   ]
  },
  {
   "cell_type": "markdown",
   "id": "e3b8f02b",
   "metadata": {},
   "source": [
    "# AFCON statistics on Wikipedia"
   ]
  },
  {
   "cell_type": "code",
   "execution_count": 2,
   "id": "fcbace35",
   "metadata": {},
   "outputs": [],
   "source": [
    "data = pd.read_html('https://en.wikipedia.org/wiki/Africa_Cup_of_Nations')"
   ]
  },
  {
   "cell_type": "code",
   "execution_count": 3,
   "id": "e0d99da3",
   "metadata": {},
   "outputs": [
    {
     "data": {
      "text/html": [
       "<div>\n",
       "<style scoped>\n",
       "    .dataframe tbody tr th:only-of-type {\n",
       "        vertical-align: middle;\n",
       "    }\n",
       "\n",
       "    .dataframe tbody tr th {\n",
       "        vertical-align: top;\n",
       "    }\n",
       "\n",
       "    .dataframe thead th {\n",
       "        text-align: right;\n",
       "    }\n",
       "</style>\n",
       "<table border=\"1\" class=\"dataframe\">\n",
       "  <thead>\n",
       "    <tr style=\"text-align: right;\">\n",
       "      <th></th>\n",
       "      <th>Tournaments</th>\n",
       "      <th>Matches</th>\n",
       "      <th>Goals scored</th>\n",
       "      <th>Goals per match</th>\n",
       "    </tr>\n",
       "  </thead>\n",
       "  <tbody>\n",
       "    <tr>\n",
       "      <th>0</th>\n",
       "      <td>1957</td>\n",
       "      <td>2</td>\n",
       "      <td>7</td>\n",
       "      <td>3.50</td>\n",
       "    </tr>\n",
       "    <tr>\n",
       "      <th>1</th>\n",
       "      <td>1959</td>\n",
       "      <td>3</td>\n",
       "      <td>8</td>\n",
       "      <td>2.67</td>\n",
       "    </tr>\n",
       "    <tr>\n",
       "      <th>2</th>\n",
       "      <td>1962</td>\n",
       "      <td>4</td>\n",
       "      <td>18</td>\n",
       "      <td>4.50</td>\n",
       "    </tr>\n",
       "    <tr>\n",
       "      <th>3</th>\n",
       "      <td>1963</td>\n",
       "      <td>8</td>\n",
       "      <td>33</td>\n",
       "      <td>4.13</td>\n",
       "    </tr>\n",
       "    <tr>\n",
       "      <th>4</th>\n",
       "      <td>1965</td>\n",
       "      <td>8</td>\n",
       "      <td>31</td>\n",
       "      <td>3.88</td>\n",
       "    </tr>\n",
       "    <tr>\n",
       "      <th>5</th>\n",
       "      <td>1968</td>\n",
       "      <td>16</td>\n",
       "      <td>52</td>\n",
       "      <td>3.25</td>\n",
       "    </tr>\n",
       "    <tr>\n",
       "      <th>6</th>\n",
       "      <td>1970</td>\n",
       "      <td>16</td>\n",
       "      <td>51</td>\n",
       "      <td>3.19</td>\n",
       "    </tr>\n",
       "    <tr>\n",
       "      <th>7</th>\n",
       "      <td>1972</td>\n",
       "      <td>16</td>\n",
       "      <td>53</td>\n",
       "      <td>3.31</td>\n",
       "    </tr>\n",
       "    <tr>\n",
       "      <th>8</th>\n",
       "      <td>1974</td>\n",
       "      <td>17</td>\n",
       "      <td>54</td>\n",
       "      <td>3.18</td>\n",
       "    </tr>\n",
       "    <tr>\n",
       "      <th>9</th>\n",
       "      <td>1976</td>\n",
       "      <td>18</td>\n",
       "      <td>54</td>\n",
       "      <td>3.00</td>\n",
       "    </tr>\n",
       "    <tr>\n",
       "      <th>10</th>\n",
       "      <td>1978</td>\n",
       "      <td>16</td>\n",
       "      <td>38</td>\n",
       "      <td>2.38</td>\n",
       "    </tr>\n",
       "    <tr>\n",
       "      <th>11</th>\n",
       "      <td>1980</td>\n",
       "      <td>16</td>\n",
       "      <td>33</td>\n",
       "      <td>2.06</td>\n",
       "    </tr>\n",
       "    <tr>\n",
       "      <th>12</th>\n",
       "      <td>1982</td>\n",
       "      <td>16</td>\n",
       "      <td>32</td>\n",
       "      <td>2.00</td>\n",
       "    </tr>\n",
       "    <tr>\n",
       "      <th>13</th>\n",
       "      <td>1984</td>\n",
       "      <td>16</td>\n",
       "      <td>39</td>\n",
       "      <td>2.44</td>\n",
       "    </tr>\n",
       "    <tr>\n",
       "      <th>14</th>\n",
       "      <td>1986</td>\n",
       "      <td>16</td>\n",
       "      <td>31</td>\n",
       "      <td>1.94</td>\n",
       "    </tr>\n",
       "    <tr>\n",
       "      <th>15</th>\n",
       "      <td>1988</td>\n",
       "      <td>16</td>\n",
       "      <td>23</td>\n",
       "      <td>1.44</td>\n",
       "    </tr>\n",
       "    <tr>\n",
       "      <th>16</th>\n",
       "      <td>1990</td>\n",
       "      <td>16</td>\n",
       "      <td>30</td>\n",
       "      <td>1.88</td>\n",
       "    </tr>\n",
       "    <tr>\n",
       "      <th>17</th>\n",
       "      <td>1992</td>\n",
       "      <td>20</td>\n",
       "      <td>34</td>\n",
       "      <td>1.70</td>\n",
       "    </tr>\n",
       "    <tr>\n",
       "      <th>18</th>\n",
       "      <td>1994</td>\n",
       "      <td>20</td>\n",
       "      <td>44</td>\n",
       "      <td>2.20</td>\n",
       "    </tr>\n",
       "    <tr>\n",
       "      <th>19</th>\n",
       "      <td>1996</td>\n",
       "      <td>29</td>\n",
       "      <td>78</td>\n",
       "      <td>2.69</td>\n",
       "    </tr>\n",
       "    <tr>\n",
       "      <th>20</th>\n",
       "      <td>1998</td>\n",
       "      <td>32</td>\n",
       "      <td>93</td>\n",
       "      <td>2.91</td>\n",
       "    </tr>\n",
       "    <tr>\n",
       "      <th>21</th>\n",
       "      <td>2000</td>\n",
       "      <td>32</td>\n",
       "      <td>73</td>\n",
       "      <td>2.28</td>\n",
       "    </tr>\n",
       "    <tr>\n",
       "      <th>22</th>\n",
       "      <td>2002</td>\n",
       "      <td>32</td>\n",
       "      <td>48</td>\n",
       "      <td>1.50</td>\n",
       "    </tr>\n",
       "    <tr>\n",
       "      <th>23</th>\n",
       "      <td>2004</td>\n",
       "      <td>32</td>\n",
       "      <td>88</td>\n",
       "      <td>2.75</td>\n",
       "    </tr>\n",
       "    <tr>\n",
       "      <th>24</th>\n",
       "      <td>2006</td>\n",
       "      <td>32</td>\n",
       "      <td>73</td>\n",
       "      <td>2.28</td>\n",
       "    </tr>\n",
       "    <tr>\n",
       "      <th>25</th>\n",
       "      <td>2008</td>\n",
       "      <td>32</td>\n",
       "      <td>99</td>\n",
       "      <td>3.09</td>\n",
       "    </tr>\n",
       "    <tr>\n",
       "      <th>26</th>\n",
       "      <td>2010</td>\n",
       "      <td>29</td>\n",
       "      <td>71</td>\n",
       "      <td>2.45</td>\n",
       "    </tr>\n",
       "    <tr>\n",
       "      <th>27</th>\n",
       "      <td>2012</td>\n",
       "      <td>32</td>\n",
       "      <td>76</td>\n",
       "      <td>2.38</td>\n",
       "    </tr>\n",
       "    <tr>\n",
       "      <th>28</th>\n",
       "      <td>2013</td>\n",
       "      <td>32</td>\n",
       "      <td>69</td>\n",
       "      <td>2.16</td>\n",
       "    </tr>\n",
       "    <tr>\n",
       "      <th>29</th>\n",
       "      <td>2015</td>\n",
       "      <td>32</td>\n",
       "      <td>68</td>\n",
       "      <td>2.13</td>\n",
       "    </tr>\n",
       "    <tr>\n",
       "      <th>30</th>\n",
       "      <td>2017</td>\n",
       "      <td>32</td>\n",
       "      <td>66</td>\n",
       "      <td>2.06</td>\n",
       "    </tr>\n",
       "    <tr>\n",
       "      <th>31</th>\n",
       "      <td>2019</td>\n",
       "      <td>52</td>\n",
       "      <td>102</td>\n",
       "      <td>1.96</td>\n",
       "    </tr>\n",
       "    <tr>\n",
       "      <th>32</th>\n",
       "      <td>2021</td>\n",
       "      <td>52</td>\n",
       "      <td>100</td>\n",
       "      <td>1.92</td>\n",
       "    </tr>\n",
       "  </tbody>\n",
       "</table>\n",
       "</div>"
      ],
      "text/plain": [
       "    Tournaments  Matches  Goals scored  Goals per match\n",
       "0          1957        2             7             3.50\n",
       "1          1959        3             8             2.67\n",
       "2          1962        4            18             4.50\n",
       "3          1963        8            33             4.13\n",
       "4          1965        8            31             3.88\n",
       "5          1968       16            52             3.25\n",
       "6          1970       16            51             3.19\n",
       "7          1972       16            53             3.31\n",
       "8          1974       17            54             3.18\n",
       "9          1976       18            54             3.00\n",
       "10         1978       16            38             2.38\n",
       "11         1980       16            33             2.06\n",
       "12         1982       16            32             2.00\n",
       "13         1984       16            39             2.44\n",
       "14         1986       16            31             1.94\n",
       "15         1988       16            23             1.44\n",
       "16         1990       16            30             1.88\n",
       "17         1992       20            34             1.70\n",
       "18         1994       20            44             2.20\n",
       "19         1996       29            78             2.69\n",
       "20         1998       32            93             2.91\n",
       "21         2000       32            73             2.28\n",
       "22         2002       32            48             1.50\n",
       "23         2004       32            88             2.75\n",
       "24         2006       32            73             2.28\n",
       "25         2008       32            99             3.09\n",
       "26         2010       29            71             2.45\n",
       "27         2012       32            76             2.38\n",
       "28         2013       32            69             2.16\n",
       "29         2015       32            68             2.13\n",
       "30         2017       32            66             2.06\n",
       "31         2019       52           102             1.96\n",
       "32         2021       52           100             1.92"
      ]
     },
     "execution_count": 3,
     "metadata": {},
     "output_type": "execute_result"
    }
   ],
   "source": [
    "data[4]"
   ]
  },
  {
   "cell_type": "code",
   "execution_count": 4,
   "id": "9e80910f",
   "metadata": {},
   "outputs": [],
   "source": [
    "afcon = data[4]"
   ]
  },
  {
   "cell_type": "code",
   "execution_count": 5,
   "id": "c874d4d0",
   "metadata": {},
   "outputs": [
    {
     "data": {
      "text/plain": [
       "Tournaments          int64\n",
       "Matches              int64\n",
       "Goals scored         int64\n",
       "Goals per match    float64\n",
       "dtype: object"
      ]
     },
     "execution_count": 5,
     "metadata": {},
     "output_type": "execute_result"
    }
   ],
   "source": [
    "afcon.dtypes"
   ]
  },
  {
   "cell_type": "code",
   "execution_count": 6,
   "id": "cd92d687",
   "metadata": {
    "scrolled": true
   },
   "outputs": [
    {
     "data": {
      "text/html": [
       "<div>\n",
       "<style scoped>\n",
       "    .dataframe tbody tr th:only-of-type {\n",
       "        vertical-align: middle;\n",
       "    }\n",
       "\n",
       "    .dataframe tbody tr th {\n",
       "        vertical-align: top;\n",
       "    }\n",
       "\n",
       "    .dataframe thead th {\n",
       "        text-align: right;\n",
       "    }\n",
       "</style>\n",
       "<table border=\"1\" class=\"dataframe\">\n",
       "  <thead>\n",
       "    <tr style=\"text-align: right;\">\n",
       "      <th></th>\n",
       "      <th>Tournaments</th>\n",
       "      <th>Matches</th>\n",
       "      <th>Goals scored</th>\n",
       "      <th>Goals per match</th>\n",
       "    </tr>\n",
       "  </thead>\n",
       "  <tbody>\n",
       "    <tr>\n",
       "      <th>28</th>\n",
       "      <td>2013</td>\n",
       "      <td>32</td>\n",
       "      <td>69</td>\n",
       "      <td>2.16</td>\n",
       "    </tr>\n",
       "    <tr>\n",
       "      <th>29</th>\n",
       "      <td>2015</td>\n",
       "      <td>32</td>\n",
       "      <td>68</td>\n",
       "      <td>2.13</td>\n",
       "    </tr>\n",
       "    <tr>\n",
       "      <th>30</th>\n",
       "      <td>2017</td>\n",
       "      <td>32</td>\n",
       "      <td>66</td>\n",
       "      <td>2.06</td>\n",
       "    </tr>\n",
       "    <tr>\n",
       "      <th>31</th>\n",
       "      <td>2019</td>\n",
       "      <td>52</td>\n",
       "      <td>102</td>\n",
       "      <td>1.96</td>\n",
       "    </tr>\n",
       "    <tr>\n",
       "      <th>32</th>\n",
       "      <td>2021</td>\n",
       "      <td>52</td>\n",
       "      <td>100</td>\n",
       "      <td>1.92</td>\n",
       "    </tr>\n",
       "  </tbody>\n",
       "</table>\n",
       "</div>"
      ],
      "text/plain": [
       "    Tournaments  Matches  Goals scored  Goals per match\n",
       "28         2013       32            69             2.16\n",
       "29         2015       32            68             2.13\n",
       "30         2017       32            66             2.06\n",
       "31         2019       52           102             1.96\n",
       "32         2021       52           100             1.92"
      ]
     },
     "execution_count": 6,
     "metadata": {},
     "output_type": "execute_result"
    }
   ],
   "source": [
    "afcon.tail()"
   ]
  },
  {
   "cell_type": "markdown",
   "id": "bc0c6393",
   "metadata": {},
   "source": [
    "### We can see the number of matches have increased over the years."
   ]
  },
  {
   "cell_type": "code",
   "execution_count": 7,
   "id": "94f0d853",
   "metadata": {
    "scrolled": true
   },
   "outputs": [
    {
     "data": {
      "text/html": [
       "<div>\n",
       "<style scoped>\n",
       "    .dataframe tbody tr th:only-of-type {\n",
       "        vertical-align: middle;\n",
       "    }\n",
       "\n",
       "    .dataframe tbody tr th {\n",
       "        vertical-align: top;\n",
       "    }\n",
       "\n",
       "    .dataframe thead th {\n",
       "        text-align: right;\n",
       "    }\n",
       "</style>\n",
       "<table border=\"1\" class=\"dataframe\">\n",
       "  <thead>\n",
       "    <tr style=\"text-align: right;\">\n",
       "      <th></th>\n",
       "      <th>Tournaments</th>\n",
       "      <th>Matches</th>\n",
       "      <th>Goals scored</th>\n",
       "      <th>Goals per match</th>\n",
       "    </tr>\n",
       "  </thead>\n",
       "  <tbody>\n",
       "    <tr>\n",
       "      <th>count</th>\n",
       "      <td>33.000000</td>\n",
       "      <td>33.000000</td>\n",
       "      <td>33.000000</td>\n",
       "      <td>33.000000</td>\n",
       "    </tr>\n",
       "    <tr>\n",
       "      <th>mean</th>\n",
       "      <td>1989.727273</td>\n",
       "      <td>22.484848</td>\n",
       "      <td>53.606061</td>\n",
       "      <td>2.582121</td>\n",
       "    </tr>\n",
       "    <tr>\n",
       "      <th>std</th>\n",
       "      <td>19.299081</td>\n",
       "      <td>12.217102</td>\n",
       "      <td>26.437354</td>\n",
       "      <td>0.741421</td>\n",
       "    </tr>\n",
       "    <tr>\n",
       "      <th>min</th>\n",
       "      <td>1957.000000</td>\n",
       "      <td>2.000000</td>\n",
       "      <td>7.000000</td>\n",
       "      <td>1.440000</td>\n",
       "    </tr>\n",
       "    <tr>\n",
       "      <th>25%</th>\n",
       "      <td>1974.000000</td>\n",
       "      <td>16.000000</td>\n",
       "      <td>33.000000</td>\n",
       "      <td>2.060000</td>\n",
       "    </tr>\n",
       "    <tr>\n",
       "      <th>50%</th>\n",
       "      <td>1990.000000</td>\n",
       "      <td>18.000000</td>\n",
       "      <td>52.000000</td>\n",
       "      <td>2.380000</td>\n",
       "    </tr>\n",
       "    <tr>\n",
       "      <th>75%</th>\n",
       "      <td>2006.000000</td>\n",
       "      <td>32.000000</td>\n",
       "      <td>73.000000</td>\n",
       "      <td>3.090000</td>\n",
       "    </tr>\n",
       "    <tr>\n",
       "      <th>max</th>\n",
       "      <td>2021.000000</td>\n",
       "      <td>52.000000</td>\n",
       "      <td>102.000000</td>\n",
       "      <td>4.500000</td>\n",
       "    </tr>\n",
       "  </tbody>\n",
       "</table>\n",
       "</div>"
      ],
      "text/plain": [
       "       Tournaments    Matches  Goals scored  Goals per match\n",
       "count    33.000000  33.000000     33.000000        33.000000\n",
       "mean   1989.727273  22.484848     53.606061         2.582121\n",
       "std      19.299081  12.217102     26.437354         0.741421\n",
       "min    1957.000000   2.000000      7.000000         1.440000\n",
       "25%    1974.000000  16.000000     33.000000         2.060000\n",
       "50%    1990.000000  18.000000     52.000000         2.380000\n",
       "75%    2006.000000  32.000000     73.000000         3.090000\n",
       "max    2021.000000  52.000000    102.000000         4.500000"
      ]
     },
     "execution_count": 7,
     "metadata": {},
     "output_type": "execute_result"
    }
   ],
   "source": [
    "afcon.describe()"
   ]
  },
  {
   "cell_type": "markdown",
   "id": "c87e65c9",
   "metadata": {},
   "source": [
    "If we look at Goals per match column, we can see a minimum of 1.44 (let's assume 1) goal per match and maximum of 4.5 (let's say 5) Goals per match. Most of the goals scored are in range 33 to 73. "
   ]
  },
  {
   "cell_type": "code",
   "execution_count": 53,
   "id": "80d7c382",
   "metadata": {
    "scrolled": true
   },
   "outputs": [
    {
     "data": {
      "image/png": "[encoded data removed]",
      "text/plain": [
       "<Figure size 720x432 with 1 Axes>"
      ]
     },
     "metadata": {
      "needs_background": "light"
     },
     "output_type": "display_data"
    }
   ],
   "source": [
    "fig, ax =plt.subplots(figsize=(10,6));\n",
    "plt.bar(afcon.Matches, afcon['Goals per match']);\n",
    "plt.xlabel('Tournaments');\n",
    "plt.ylabel('Goals scored');\n",
    "#plt.legend()"
   ]
  },
  {
   "cell_type": "markdown",
   "id": "9e72efd3",
   "metadata": {},
   "source": [
    "The above bar plot gives visual of as matches increased, number of goals scored are decreased with the exception of few. This might be due to various reasons which are not in the table (player fitness, opposition, etc)"
   ]
  },
  {
   "cell_type": "code",
   "execution_count": 17,
   "id": "14aa7867",
   "metadata": {
    "scrolled": true
   },
   "outputs": [
    {
     "data": {
      "image/png": "[encoded data removed]",
      "text/plain": [
       "<Figure size 432x288 with 1 Axes>"
      ]
     },
     "metadata": {
      "needs_background": "light"
     },
     "output_type": "display_data"
    }
   ],
   "source": [
    "sns.barplot(x='Matches', y='Goals per match', data = afcon);"
   ]
  },
  {
   "cell_type": "markdown",
   "id": "26d92bfe",
   "metadata": {},
   "source": [
    "This bar plot gives the correlation of matches vs goals per match. The same analogy as the prior can be applied here."
   ]
  },
  {
   "cell_type": "code",
   "execution_count": 35,
   "id": "5cdf7ea8",
   "metadata": {
    "scrolled": true
   },
   "outputs": [
    {
     "data": {
      "image/png": "[encoded data removed]",
      "text/plain": [
       "<Figure size 432x288 with 1 Axes>"
      ]
     },
     "metadata": {
      "needs_background": "light"
     },
     "output_type": "display_data"
    }
   ],
   "source": [
    "sns.lineplot(x = 'Goals scored', y='Goals per match', data = afcon);"
   ]
  },
  {
   "cell_type": "markdown",
   "id": "04ec3c10",
   "metadata": {},
   "source": [
    "As number of goals scored are increased, goals per match have decreased."
   ]
  },
  {
   "cell_type": "code",
   "execution_count": 46,
   "id": "374255b7",
   "metadata": {
    "scrolled": true
   },
   "outputs": [
    {
     "data": {
      "image/png": "[encoded data removed]",
      "text/plain": [
       "<Figure size 432x288 with 1 Axes>"
      ]
     },
     "metadata": {
      "needs_background": "light"
     },
     "output_type": "display_data"
    }
   ],
   "source": [
    "sns.barplot(x=afcon['Tournaments'].tail(), y=afcon['Goals scored'].tail(), data = afcon);"
   ]
  },
  {
   "cell_type": "markdown",
   "id": "b4bb9752",
   "metadata": {},
   "source": [
    "### Goals per match have decreased but goals scored have increased because of increase in the number of matches"
   ]
  },
  {
   "cell_type": "code",
   "execution_count": 47,
   "id": "f7f3f88c",
   "metadata": {
    "scrolled": true
   },
   "outputs": [
    {
     "data": {
      "image/png": "[encoded data removed]",
      "text/plain": [
       "<Figure size 432x288 with 1 Axes>"
      ]
     },
     "metadata": {
      "needs_background": "light"
     },
     "output_type": "display_data"
    }
   ],
   "source": [
    "sns.barplot(x=afcon['Tournaments'].tail(), y=afcon['Goals per match'].tail(), data = afcon);"
   ]
  },
  {
   "cell_type": "markdown",
   "id": "1b64c93e",
   "metadata": {},
   "source": [
    "### Goals per match have decreased over the last 5 tournaments"
   ]
  },
  {
   "cell_type": "code",
   "execution_count": 48,
   "id": "7eb93dfa",
   "metadata": {},
   "outputs": [
    {
     "data": {
      "text/plain": [
       "16    10\n",
       "32    10\n",
       "8      2\n",
       "20     2\n",
       "29     2\n",
       "52     2\n",
       "2      1\n",
       "3      1\n",
       "4      1\n",
       "17     1\n",
       "18     1\n",
       "Name: Matches, dtype: int64"
      ]
     },
     "execution_count": 48,
     "metadata": {},
     "output_type": "execute_result"
    }
   ],
   "source": [
    "afcon.Matches.value_counts()"
   ]
  },
  {
   "cell_type": "code",
   "execution_count": 51,
   "id": "3a00514d",
   "metadata": {},
   "outputs": [
    {
     "data": {
      "image/png": "[encoded data removed]",
      "text/plain": [
       "<Figure size 432x288 with 1 Axes>"
      ]
     },
     "metadata": {
      "needs_background": "light"
     },
     "output_type": "display_data"
    }
   ],
   "source": [
    "sns.barplot(x=afcon['Matches'].head(), y=afcon['Goals per match'].head(), data = afcon);"
   ]
  },
  {
   "cell_type": "code",
   "execution_count": 52,
   "id": "81165127",
   "metadata": {},
   "outputs": [
    {
     "data": {
      "image/png": "[encoded data removed]",
      "text/plain": [
       "<Figure size 432x288 with 1 Axes>"
      ]
     },
     "metadata": {
      "needs_background": "light"
     },
     "output_type": "display_data"
    }
   ],
   "source": [
    "sns.barplot(x=afcon['Matches'].tail(), y=afcon['Goals per match'].tail(), data = afcon);"
   ]
  },
  {
   "cell_type": "code",
   "execution_count": null,
   "id": "97eeebcf",
   "metadata": {},
   "outputs": [],
   "source": []
  },
  {
   "cell_type": "code",
   "execution_count": null,
   "id": "30bc5301",
   "metadata": {},
   "outputs": [],
   "source": []
  }
 ],
 "metadata": {
  "kernelspec": {
   "display_name": "Python 3",
   "language": "python",
   "name": "python3"
  },
  "language_info": {
   "codemirror_mode": {
    "name": "ipython",
    "version": 3
   },
   "file_extension": ".py",
   "mimetype": "text/x-python",
   "name": "python",
   "nbconvert_exporter": "python",
   "pygments_lexer": "ipython3",
   "version": "3.8.3"
  }
 },
 "nbformat": 4,
 "nbformat_minor": 5
}
